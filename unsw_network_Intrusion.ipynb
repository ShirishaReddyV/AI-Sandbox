{
  "nbformat": 4,
  "nbformat_minor": 0,
  "metadata": {
    "colab": {
      "provenance": [],
      "authorship_tag": "ABX9TyMT47ebfJ9/kQnPP2w204Vi",
      "include_colab_link": true
    },
    "kernelspec": {
      "name": "python3",
      "display_name": "Python 3"
    },
    "language_info": {
      "name": "python"
    }
  },
  "cells": [
    {
      "cell_type": "markdown",
      "metadata": {
        "id": "view-in-github",
        "colab_type": "text"
      },
      "source": [
        "<a href=\"https://colab.research.google.com/github/ShirishaReddyV/AI-Sandbox/blob/main/unsw_network_Intrusion.ipynb\" target=\"_parent\"><img src=\"https://colab.research.google.com/assets/colab-badge.svg\" alt=\"Open In Colab\"/></a>"
      ]
    },
    {
      "cell_type": "code",
      "execution_count": null,
      "metadata": {
        "id": "gIz5SDEy-S_z"
      },
      "outputs": [],
      "source": [
        "import kagglehub\n",
        "\n",
        "# Download latest version\n",
        "path = kagglehub.dataset_download(\"mrwellsdavid/unsw-nb15\")\n",
        "\n",
        "print(\"Path to dataset files:\", path)"
      ]
    },
    {
      "cell_type": "code",
      "source": [
        "import os\n",
        "\n",
        "print(\"Downloaded to:\", path)\n",
        "print(\"Files in directory:\")\n",
        "print(os.listdir(path))\n"
      ],
      "metadata": {
        "id": "VNfDVAcXA7hS"
      },
      "execution_count": null,
      "outputs": []
    },
    {
      "cell_type": "code",
      "source": [
        "import pandas as pd\n",
        "import os\n",
        "\n",
        "train_path = os.path.join(path, \"UNSW_NB15_training-set.csv\")\n",
        "test_path = os.path.join(path, \"UNSW_NB15_testing-set.csv\")\n",
        "\n",
        "df_train = pd.read_csv(train_path)\n",
        "df_test = pd.read_csv(test_path)\n",
        "\n",
        "# Combine\n",
        "df = pd.concat([df_train, df_test], ignore_index=True)\n",
        "print(\"Dataset shape:\", df.shape)\n",
        "print(df['label'].value_counts())\n",
        "print(df['attack_cat'].value_counts(dropna=False))  # Shows attack categories\n"
      ],
      "metadata": {
        "id": "I2ipjnKfAn_b"
      },
      "execution_count": null,
      "outputs": []
    },
    {
      "cell_type": "code",
      "source": [
        "!pip install dash plotly\n",
        "\n"
      ],
      "metadata": {
        "id": "7RGSLkIMAwSC"
      },
      "execution_count": null,
      "outputs": []
    },
    {
      "cell_type": "code",
      "source": [
        "import dash\n",
        "from dash import dcc, html\n",
        "import plotly.express as px\n",
        "\n",
        "app = dash.Dash(__name__)\n",
        "\n",
        "fig = px.histogram(df, x='attack_cat', title=\"Attack Category Distribution\")\n",
        "\n",
        "app.layout = html.Div([\n",
        "    html.H1(\"UNSW-NB15 Cybersecurity Dashboard\"),\n",
        "    dcc.Graph(figure=fig),\n",
        "    dcc.Dropdown(\n",
        "        options=[{'label': col, 'value': col} for col in df.columns if df[col].dtype != 'object'],\n",
        "        value='dur',\n",
        "        id='feature-dropdown'\n",
        "    ),\n",
        "    dcc.Graph(id='feature-hist')\n",
        "])\n",
        "\n",
        "@app.callback(\n",
        "    dash.dependencies.Output('feature-hist', 'figure'),\n",
        "    [dash.dependencies.Input('feature-dropdown', 'value')]\n",
        ")\n",
        "def update_hist(selected_feature):\n",
        "    return px.histogram(df, x=selected_feature, color='attack_cat')\n",
        "\n",
        "app.run(debug=True)"
      ],
      "metadata": {
        "id": "1PQG87mVBV5p"
      },
      "execution_count": null,
      "outputs": []
    },
    {
      "cell_type": "code",
      "source": [
        "from sklearn.model_selection import train_test_split\n",
        "from sklearn.ensemble import RandomForestClassifier\n",
        "from sklearn.metrics import classification_report\n",
        "import pandas as pd\n",
        "\n",
        "# One-hot encode categorical features\n",
        "X = df.drop(columns=['label', 'attack_cat'])  # features\n",
        "X = pd.get_dummies(X, columns=['proto', 'service', 'state'], dummy_na=False)\n",
        "\n",
        "y_binary = df['label']                        # 0 = Normal, 1 = Attack\n",
        "y_multi = df['attack_cat']                    # For multi-class\n",
        "\n",
        "X_train, X_test, y_train, y_test = train_test_split(X, y_binary, test_size=0.2, random_state=42)\n",
        "\n",
        "model = RandomForestClassifier(n_estimators=100)\n",
        "model.fit(X_train, y_train)\n",
        "\n",
        "y_pred = model.predict(X_test)\n",
        "print(\"Binary Classification Report:\")\n",
        "print(classification_report(y_test, y_pred))"
      ],
      "metadata": {
        "id": "F8m_2BSzBaSS"
      },
      "execution_count": null,
      "outputs": []
    },
    {
      "cell_type": "code",
      "source": [
        "from tensorflow.keras.models import Sequential\n",
        "from tensorflow.keras.layers import Dense\n",
        "\n",
        "model = Sequential([\n",
        "    Dense(64, activation='relu', input_shape=(X.shape[1],)),\n",
        "    Dense(32, activation='relu'),\n",
        "    Dense(1, activation='sigmoid')  # Binary classification\n",
        "])\n",
        "\n",
        "model.compile(optimizer='adam', loss='binary_crossentropy', metrics=['accuracy'])\n",
        "model.fit(X_train, y_train, epochs=10, batch_size=64, validation_split=0.2)\n"
      ],
      "metadata": {
        "id": "Y4gNGyFcBlmP"
      },
      "execution_count": null,
      "outputs": []
    },
    {
      "cell_type": "code",
      "source": [
        "# Install these in Colab or local\n",
        "# !pip install dash plotly pandas\n",
        "\n",
        "import dash\n",
        "from dash import dcc, html, Input, Output\n",
        "import pandas as pd\n",
        "import plotly.express as px\n",
        "import os\n",
        "\n",
        "# Load Dataset\n",
        "path = \"/kaggle/input/unsw-nb15\"\n",
        "df_train = pd.read_csv(os.path.join(path, \"UNSW_NB15_training-set.csv\"))\n",
        "df_test = pd.read_csv(os.path.join(path, \"UNSW_NB15_testing-set.csv\"))\n",
        "df = pd.concat([df_train, df_test], ignore_index=True)\n",
        "\n",
        "# Fill NaNs\n",
        "df.fillna(\"Unknown\", inplace=True)\n",
        "\n",
        "# Dash App\n",
        "app = dash.Dash(__name__)\n",
        "app.title = \"UNSW-NB15 Cybersecurity Dashboard\"\n",
        "\n",
        "# Main Layout\n",
        "app.layout = html.Div(style={\n",
        "    'fontFamily': 'Arial',\n",
        "    'backgroundColor': '#f8f9fa',\n",
        "    'padding': '20px'\n",
        "}, children=[\n",
        "\n",
        "    html.H1(\"🔐 UNSW-NB15 Intrusion Detection Dashboard\", style={\n",
        "        'textAlign': 'center',\n",
        "        'color': '#2c3e50'\n",
        "    }),\n",
        "\n",
        "    html.P(\"Explore attack types, protocols, and feature insights from the UNSW-NB15 dataset.\", style={\n",
        "        'textAlign': 'center',\n",
        "        'color': '#34495e'\n",
        "    }),\n",
        "\n",
        "    html.Div([\n",
        "        html.Label(\"🎯 Select Attack Category:\", style={'fontWeight': 'bold'}),\n",
        "        dcc.Dropdown(\n",
        "            id='attack-dropdown',\n",
        "            options=[{'label': cat, 'value': cat} for cat in df['attack_cat'].unique()],\n",
        "            value='Normal',\n",
        "            clearable=False,\n",
        "            style={'width': '300px'}\n",
        "        ),\n",
        "    ], style={'marginBottom': '30px'}),\n",
        "\n",
        "    html.Div([\n",
        "        dcc.Graph(id='attack-distribution'),\n",
        "        dcc.Graph(id='protocol-duration-heatmap'),\n",
        "    ], style={'display': 'flex', 'gap': '20px'}),\n",
        "\n",
        "    html.Div([\n",
        "        html.Label(\"📈 Select Feature to Explore:\", style={'fontWeight': 'bold'}),\n",
        "        dcc.Dropdown(\n",
        "            id='feature-dropdown',\n",
        "            options=[{'label': col, 'value': col} for col in df.columns if df[col].dtype in ['int64', 'float64']],\n",
        "            value='dur',\n",
        "            style={'width': '300px'}\n",
        "        ),\n",
        "        dcc.Graph(id='feature-graph')\n",
        "    ], style={'marginTop': '40px'})\n",
        "])\n",
        "\n",
        "# Callbacks\n",
        "@app.callback(\n",
        "    Output('attack-distribution', 'figure'),\n",
        "    Input('attack-dropdown', 'value')\n",
        ")\n",
        "def update_attack_chart(selected_cat):\n",
        "    filtered = df[df['attack_cat'] == selected_cat]\n",
        "    fig = px.histogram(filtered, x='proto', title=f\"Protocol Usage for '{selected_cat}' Attacks\", color='proto')\n",
        "    fig.update_layout(template='plotly_white')\n",
        "    return fig\n",
        "\n",
        "@app.callback(\n",
        "    Output('protocol-duration-heatmap', 'figure'),\n",
        "    Input('attack-dropdown', 'value')\n",
        ")\n",
        "def update_heatmap(selected_cat):\n",
        "    filtered = df[df['attack_cat'] == selected_cat]\n",
        "    pivot = filtered.pivot_table(index='proto', columns='service', values='dur', aggfunc='mean').fillna(0)\n",
        "    fig = px.imshow(pivot, text_auto=True, title=f\"Avg Duration by Protocol & Service ({selected_cat})\")\n",
        "    fig.update_layout(template='plotly_white')\n",
        "    return fig\n",
        "\n",
        "@app.callback(\n",
        "    Output('feature-graph', 'figure'),\n",
        "    Input('feature-dropdown', 'value')\n",
        ")\n",
        "def update_feature_graph(feature_name):\n",
        "    fig = px.box(df, x='attack_cat', y=feature_name, color='attack_cat',\n",
        "                 title=f\"📊 Distribution of '{feature_name}' by Attack Category\")\n",
        "    fig.update_layout(template='plotly_white')\n",
        "    return fig\n",
        "\n",
        "# Run app (for Colab/Notebook use JupyterDash instead)\n",
        "app.run(debug=False, use_reloader=False)"
      ],
      "metadata": {
        "id": "r273ZrKLB7bC"
      },
      "execution_count": null,
      "outputs": []
    },
    {
      "cell_type": "code",
      "source": [],
      "metadata": {
        "id": "uRhBHxw5CccK"
      },
      "execution_count": null,
      "outputs": []
    }
  ]
}