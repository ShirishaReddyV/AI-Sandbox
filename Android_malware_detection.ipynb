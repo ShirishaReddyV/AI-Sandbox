{
  "nbformat": 4,
  "nbformat_minor": 0,
  "metadata": {
    "colab": {
      "provenance": [],
      "authorship_tag": "ABX9TyNkopHVz/N5DkrsSowyN/RK",
      "include_colab_link": true
    },
    "kernelspec": {
      "name": "python3",
      "display_name": "Python 3"
    },
    "language_info": {
      "name": "python"
    }
  },
  "cells": [
    {
      "cell_type": "markdown",
      "metadata": {
        "id": "view-in-github",
        "colab_type": "text"
      },
      "source": [
        "<a href=\"https://colab.research.google.com/github/ShirishaReddyV/AI-Sandbox/blob/main/Android_malware_detection.ipynb\" target=\"_parent\"><img src=\"https://colab.research.google.com/assets/colab-badge.svg\" alt=\"Open In Colab\"/></a>"
      ]
    },
    {
      "cell_type": "code",
      "execution_count": null,
      "metadata": {
        "id": "UOcfKCGiUADW"
      },
      "outputs": [],
      "source": [
        "import kagglehub\n",
        "import pandas as pd\n",
        "from scipy.stats import zscore\n",
        "import numpy as np\n",
        "\n",
        "# Step 1: Download dataset\n",
        "path = kagglehub.dataset_download(\"subhajournal/android-malware-detection\")\n",
        "print(\"Path to dataset files:\", path)\n",
        "\n",
        "# Step 2: Load dataset (assuming CSV format, adjust if it's XLSX or others)\n",
        "import os\n",
        "# Find first CSV file in directory\n",
        "csv_file = None\n",
        "for file in os.listdir(path):\n",
        "    if file.endswith(\".csv\"):\n",
        "        csv_file = os.path.join(path, file)\n",
        "        break\n",
        "\n",
        "if csv_file is None:\n",
        "    raise FileNotFoundError(\"No CSV file found in the downloaded dataset.\")\n",
        "\n",
        "df = pd.read_csv(csv_file)\n",
        "print(\"Dataset shape:\", df.shape)\n",
        "\n",
        "# Step 3: Select only numerical columns\n",
        "numeric_cols = df.select_dtypes(include=np.number).columns\n",
        "df_numeric = df[numeric_cols]\n",
        "\n",
        "# Step 4: Calculate Z-scores\n",
        "z_scores = df_numeric.apply(zscore)\n",
        "\n",
        "# Step 5: Detect outliers\n",
        "outliers = (z_scores > 2.5) | (z_scores < -2.5)\n",
        "\n",
        "# Summary of outliers per column\n",
        "outlier_summary = outliers.sum().sort_values(ascending=False)\n",
        "\n",
        "print(\"\\nNumber of outliers per numerical column (Z-score > 2.5 or < -2.5):\")\n",
        "print(outlier_summary)\n",
        "\n",
        "# Optional: Show rows with any outliers\n",
        "df_outliers = df[outliers.any(axis=1)]\n",
        "print(\"\\nRows with any outliers:\")\n",
        "print(df_outliers.head())\n"
      ]
    },
    {
      "cell_type": "code",
      "source": [
        "import matplotlib.pyplot as plt\n",
        "import seaborn as sns\n",
        "import numpy as np\n",
        "\n",
        "# Set style\n",
        "sns.set(style=\"whitegrid\")\n",
        "plt.rcParams[\"figure.figsize\"] = (16, 6)\n",
        "\n",
        "# Top 5 numerical columns with most outliers\n",
        "top_outlier_cols = outlier_summary.head(5).index\n",
        "\n",
        "# 1. Side-by-side boxplots\n",
        "fig, axes = plt.subplots(1, len(top_outlier_cols), figsize=(20, 6))\n",
        "\n",
        "for i, col in enumerate(top_outlier_cols):\n",
        "    sns.boxplot(data=df, x=col, ax=axes[i])\n",
        "    axes[i].set_title(f'Boxplot: {col}', fontsize=12)\n",
        "    axes[i].tick_params(axis='x', rotation=45)\n",
        "\n",
        "plt.suptitle('Top 5 Numerical Columns with Outliers (Boxplots)', fontsize=16)\n",
        "plt.tight_layout(rect=[0, 0.03, 1, 0.95])\n",
        "plt.show()\n",
        "\n",
        "# 2. Scatter plot for first 2 columns with most outliers\n",
        "if len(top_outlier_cols) >= 2:\n",
        "    x_col = top_outlier_cols[0]\n",
        "    y_col = top_outlier_cols[1]\n",
        "\n",
        "    plt.figure(figsize=(10, 6))\n",
        "    sns.scatterplot(data=df, x=x_col, y=y_col, label='Normal', alpha=0.5)\n",
        "    sns.scatterplot(data=df_outliers, x=x_col, y=y_col, color='red', label='Outliers', alpha=0.7)\n",
        "    plt.title(f'Scatter Plot Highlighting Outliers: {x_col} vs {y_col}', fontsize=14)\n",
        "    plt.xlabel(x_col)\n",
        "    plt.ylabel(y_col)\n",
        "    plt.legend()\n",
        "    plt.tight_layout()\n",
        "    plt.show()\n"
      ],
      "metadata": {
        "id": "EvnPKt5tUwds"
      },
      "execution_count": null,
      "outputs": []
    },
    {
      "cell_type": "code",
      "source": [],
      "metadata": {
        "id": "EdESg7D5cSZ2"
      },
      "execution_count": null,
      "outputs": []
    }
  ]
}